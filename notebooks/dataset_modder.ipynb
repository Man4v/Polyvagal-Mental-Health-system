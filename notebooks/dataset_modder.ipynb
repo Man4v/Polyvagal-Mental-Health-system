{
 "cells": [
  {
   "cell_type": "code",
   "execution_count": 4,
   "metadata": {},
   "outputs": [
    {
     "name": "stdout",
     "output_type": "stream",
     "text": [
      "state        word  hypo  hyper  flow\n",
      "0       accepting   0.0   0.00  0.80\n",
      "1       adaptable   0.0   0.00  0.79\n",
      "2      aggressive   0.0   0.84  0.00\n",
      "3        agitated   0.0   0.88  0.00\n",
      "4         alarmed   0.0   0.86  0.00\n"
     ]
    }
   ],
   "source": [
    "import pandas as pd\n",
    "\n",
    "# Load your long-format lexicon\n",
    "df = pd.read_csv(\"../data/processed/dataset_with_weights.csv\")  # columns: word, state, weight\n",
    "\n",
    "# Pivot into wide format\n",
    "df_wide = df.pivot_table(index=\"word\", columns=\"state\", values=\"weight\", fill_value=0).reset_index()\n",
    "\n",
    "# Ensure all three columns exist\n",
    "for col in [\"hypo\", \"hyper\", \"flow\"]:\n",
    "    if col not in df_wide.columns:\n",
    "        df_wide[col] = 0.0\n",
    "\n",
    "# Reorder columns\n",
    "df_wide = df_wide[[\"word\", \"hypo\", \"hyper\", \"flow\"]]\n",
    "\n",
    "# Save to new CSV\n",
    "df_wide.to_csv(\"../data/processed/lexicon_for_sentences.csv\", index=False)\n",
    "\n",
    "print(df_wide.head())\n"
   ]
  },
  {
   "cell_type": "code",
   "execution_count": null,
   "metadata": {},
   "outputs": [],
   "source": []
  }
 ],
 "metadata": {
  "kernelspec": {
   "display_name": "Python 3",
   "language": "python",
   "name": "python3"
  },
  "language_info": {
   "codemirror_mode": {
    "name": "ipython",
    "version": 3
   },
   "file_extension": ".py",
   "mimetype": "text/x-python",
   "name": "python",
   "nbconvert_exporter": "python",
   "pygments_lexer": "ipython3",
   "version": "3.12.4"
  }
 },
 "nbformat": 4,
 "nbformat_minor": 2
}
