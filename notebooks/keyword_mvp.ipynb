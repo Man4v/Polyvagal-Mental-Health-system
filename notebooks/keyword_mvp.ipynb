{
 "cells": [
  {
   "cell_type": "code",
   "execution_count": 6,
   "metadata": {},
   "outputs": [],
   "source": [
    "import pandas as pd"
   ]
  },
  {
   "cell_type": "code",
   "execution_count": 7,
   "metadata": {},
   "outputs": [],
   "source": [
    "lexicon_df = pd.read_csv(\"../data/processed/dataset_with_weights.csv\")\n",
    "lexicon = {\n",
    "    row.word.lower(): {\"state\": row.state, \"weight\": row.weight}\n",
    "    for _, row in lexicon_df.iterrows()\n",
    "}\n",
    "vocab = {w: i for i, w in enumerate(lexicon_df[\"word\"].unique())}"
   ]
  },
  {
   "cell_type": "code",
   "execution_count": 10,
   "metadata": {},
   "outputs": [],
   "source": [
    "def calculate_state_percentages(selected_words_with_intensity, lexicon):\n",
    "    scores = {\"hypo\": 0, \"hyper\": 0, \"flow\": 0}\n",
    "    for word, intensity in selected_words_with_intensity:\n",
    "        w = word.lower()\n",
    "        if w in lexicon:\n",
    "            state = lexicon[w][\"state\"]\n",
    "            weight = lexicon[w][\"weight\"]\n",
    "            scores[state] += intensity * weight\n",
    "        else:\n",
    "            print(f\"⚠️ Word '{word}' not found in lexicon\")\n",
    "\n",
    "    total = sum(scores.values())\n",
    "    percentages = {s: (v / total * 100) if total else 0 for s, v in scores.items()}\n",
    "    return percentages\n"
   ]
  },
  {
   "cell_type": "code",
   "execution_count": 11,
   "metadata": {},
   "outputs": [
    {
     "name": "stdout",
     "output_type": "stream",
     "text": [
      "State proportions:\n",
      "hypo: 22.1%\n",
      "hyper: 77.9%\n",
      "flow: 0.0%\n"
     ]
    }
   ],
   "source": [
    "# Simulating user selecting words & intensities\n",
    "user_input = [\n",
    "    (\"Anxious\", 4),\n",
    "    (\"Restless\", 3),\n",
    "    (\"Numb\", 2)\n",
    "]\n",
    "\n",
    "percentages = calculate_state_percentages(user_input, lexicon)\n",
    "\n",
    "print(\"State proportions:\")\n",
    "for state, pct in percentages.items():\n",
    "    print(f\"{state}: {pct:.1f}%\")\n"
   ]
  },
  {
   "cell_type": "code",
   "execution_count": 13,
   "metadata": {},
   "outputs": [
    {
     "name": "stdout",
     "output_type": "stream",
     "text": [
      "⚠️ Word 'lonely' not found in lexicon\n",
      "{'hypo': 45.66929133858268, 'hyper': 54.330708661417326, 'flow': 0.0}\n"
     ]
    }
   ],
   "source": [
    "while True:\n",
    "    word = input(\"Enter word (or 'done'): \")\n",
    "    if word.lower() == \"done\":\n",
    "        break\n",
    "    intensity = int(input(\"Enter intensity (1-5): \"))\n",
    "    user_input.append((word, intensity))\n",
    "\n",
    "print(calculate_state_percentages(user_input, lexicon))\n"
   ]
  }
 ],
 "metadata": {
  "kernelspec": {
   "display_name": "Python 3",
   "language": "python",
   "name": "python3"
  },
  "language_info": {
   "codemirror_mode": {
    "name": "ipython",
    "version": 3
   },
   "file_extension": ".py",
   "mimetype": "text/x-python",
   "name": "python",
   "nbconvert_exporter": "python",
   "pygments_lexer": "ipython3",
   "version": "3.12.4"
  }
 },
 "nbformat": 4,
 "nbformat_minor": 2
}
